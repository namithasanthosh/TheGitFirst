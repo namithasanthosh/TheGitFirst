{
 "cells": [
  {
   "cell_type": "markdown",
   "id": "c3ce1d79-607c-4129-b704-943750637360",
   "metadata": {},
   "source": [
    "<h1>Data Science Tools and Ecosystem</h1>\n"
   ]
  },
  {
   "cell_type": "markdown",
   "id": "c788b895-b6f1-4235-8cc6-294192015a0c",
   "metadata": {},
   "source": [
    "<p>In this notebook, Data Science Tools and Ecosystem are summarized.</p>"
   ]
  },
  {
   "cell_type": "markdown",
   "id": "be25437b-0fc9-4fdc-8d0f-f3aef65474ce",
   "metadata": {},
   "source": [
    "<b>Objectives: </b>\n",
    "<ul>\n",
    "<li>List popular languages for Data Science</li>\n",
    "<li>Some of the commonly used libraries used by Data Scientists include:</li>\n",
    "<li>Examples of evaluating arithmetic expressions in Python</li>\n",
    "</ul>"
   ]
  },
  {
   "cell_type": "markdown",
   "id": "eb287edc-5fb1-4bf3-99c5-a1c7caa7180b",
   "metadata": {},
   "source": [
    "<h2>Author</h2> \n",
    "<p>Namita Nair</p>"
   ]
  },
  {
   "cell_type": "markdown",
   "id": "19fe783e-da28-45e6-a5e3-086770eb3065",
   "metadata": {},
   "source": [
    "<p>Some of the popular languages that Data Scientists use are:</p>"
   ]
  },
  {
   "cell_type": "markdown",
   "id": "cb251bd0-5154-4c98-a7a4-3524ba54ea5d",
   "metadata": {},
   "source": [
    "<ul> <li>Python</li> <li>R</li> <li>SQL</li> </ul>"
   ]
  },
  {
   "cell_type": "markdown",
   "id": "e8ccb302-779c-4778-b54a-de8234b19ddf",
   "metadata": {},
   "source": [
    "<p>Some of the commonly used libraries used by Data Scientists include:</p>\n",
    "\n",
    "<ul> <li>NumPy</li> <li>SciPy</li>  <li>BeautifulSoup</li></ul>"
   ]
  },
  {
   "cell_type": "markdown",
   "id": "aea6c903-94eb-4d98-bb09-f46aeec3238e",
   "metadata": {},
   "source": [
    "<table>\n",
    "  <tr>\n",
    "    <th>Data Science Tools</th>\n",
    "    \n",
    "  </tr>\n",
    "  <tr>\n",
    "    <td>  </td>\n",
    "   \n",
    "  </tr> </table>\n",
    " "
   ]
  },
  {
   "cell_type": "markdown",
   "id": "ba82eabf-0298-4fe6-9c84-6ed036fa9db9",
   "metadata": {},
   "source": [
    "<h3>Below are a few examples of evaluating arithmetic expressions in Python</h3>"
   ]
  },
  {
   "cell_type": "code",
   "execution_count": 9,
   "id": "dad8f34f-a1b2-413b-aece-c5a7caeb8a38",
   "metadata": {},
   "outputs": [
    {
     "data": {
      "text/plain": [
       "17"
      ]
     },
     "execution_count": 9,
     "metadata": {},
     "output_type": "execute_result"
    }
   ],
   "source": [
    "(3*4)+5  #This a simple arithmetic expression to mutiply then add integers\n"
   ]
  },
  {
   "cell_type": "code",
   "execution_count": 18,
   "id": "d6b5a1ef-9a05-46b7-8781-d7f719d07aef",
   "metadata": {},
   "outputs": [
    {
     "name": "stdout",
     "output_type": "stream",
     "text": [
      "3\n"
     ]
    }
   ],
   "source": [
    "total_minutes = 200\n",
    "\n",
    "#This will convert 200 minutes to hours by diving by 60.\n",
    "hours = total_minutes // 60\n",
    "\n",
    "print(hours);"
   ]
  },
  {
   "cell_type": "code",
   "execution_count": null,
   "id": "2405b898-7b1d-47f7-bc01-3cc43afc15e2",
   "metadata": {},
   "outputs": [],
   "source": []
  },
  {
   "cell_type": "code",
   "execution_count": null,
   "id": "f9f3e57d-d344-4ebb-b7e3-f7b8b9b51ba8",
   "metadata": {},
   "outputs": [],
   "source": []
  }
 ],
 "metadata": {
  "kernelspec": {
   "display_name": "Python [conda env:anaconda3-RR_Ethan]",
   "language": "python",
   "name": "conda-env-anaconda3-RR_Ethan-py"
  },
  "language_info": {
   "codemirror_mode": {
    "name": "ipython",
    "version": 3
   },
   "file_extension": ".py",
   "mimetype": "text/x-python",
   "name": "python",
   "nbconvert_exporter": "python",
   "pygments_lexer": "ipython3",
   "version": "3.13.5"
  }
 },
 "nbformat": 4,
 "nbformat_minor": 5
}
